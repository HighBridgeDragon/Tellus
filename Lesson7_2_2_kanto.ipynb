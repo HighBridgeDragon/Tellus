{
 "metadata": {
  "language_info": {
   "codemirror_mode": {
    "name": "ipython",
    "version": 3
   },
   "file_extension": ".py",
   "mimetype": "text/x-python",
   "name": "python",
   "nbconvert_exporter": "python",
   "pygments_lexer": "ipython3",
   "version": "3.7.3-final"
  },
  "orig_nbformat": 2,
  "kernelspec": {
   "name": "python3",
   "display_name": "Python 3.7.3 64-bit ('venv')",
   "metadata": {
    "interpreter": {
     "hash": "879513dbecba394e5d40e140d042efc8b3958288144cc7e0bbd6d3fb48fb0c12"
    }
   }
  }
 },
 "nbformat": 4,
 "nbformat_minor": 2,
 "cells": [
  {
   "cell_type": "code",
   "execution_count": null,
   "metadata": {},
   "outputs": [],
   "source": [
    "import pandas as pd \n",
    "import numpy as np \n",
    "from sklearn.linear_model import LinearRegression\n",
    "from sklearn.ensemble import RandomForestRegressor\n",
    "from sklearn.svm import SVR "
   ]
  },
  {
   "cell_type": "code",
   "execution_count": null,
   "metadata": {},
   "outputs": [],
   "source": [
    "df = pd.read_csv(r'./population_data/japan_population.csv')\n",
    "df.head()"
   ]
  },
  {
   "cell_type": "code",
   "execution_count": null,
   "metadata": {},
   "outputs": [],
   "source": [
    "X = np.zeros(shape = (56 * 7, 7), dtype=np.int32)\n",
    "y = np.zeros(56 * 7, dtype=np.int32)\n",
    "\n",
    "cnt = 0\n",
    "for i in range(56 * 47):\n",
    "    pred_id = df.iloc[i, 1]\n",
    "    population = df.iloc[i, 3]\n",
    "    next_population = df.iloc[i + 47, 3]\n",
    "\n",
    "    if pred_id < 8 or 14 < pred_id:\n",
    "        continue\n",
    "\n",
    "    if pred_id < 14:\n",
    "        X[cnt][pred_id - 8] = 1\n",
    "\n",
    "    X[cnt][6] = population\n",
    "    y[cnt] = next_population\n",
    "    cnt += 1\n",
    "\n",
    "print(y[0:10], X[0:10])"
   ]
  },
  {
   "cell_type": "code",
   "execution_count": null,
   "metadata": {},
   "outputs": [],
   "source": [
    "(X_train, X_test) = (X[:350], X[350:])\n",
    "(y_train, y_test) = (y[:350], y[350:])"
   ]
  },
  {
   "cell_type": "code",
   "execution_count": null,
   "metadata": {},
   "outputs": [],
   "source": [
    "model1 = LinearRegression()\n",
    "model1.fit(X_train, y_train)"
   ]
  },
  {
   "cell_type": "code",
   "execution_count": null,
   "metadata": {},
   "outputs": [],
   "source": [
    "y_pred1 = model1.predict(X_test)\n",
    "y_pred1 = y_pred1.astype(np.int32)\n",
    "y_pred1"
   ]
  },
  {
   "cell_type": "code",
   "execution_count": null,
   "metadata": {},
   "outputs": [],
   "source": [
    "model2 = RandomForestRegressor()\n",
    "model2.fit(X_train, y_train)"
   ]
  },
  {
   "cell_type": "code",
   "execution_count": null,
   "metadata": {},
   "outputs": [],
   "source": [
    "y_pred2 = model2.predict(X_test)\n",
    "\n",
    "y_pred2 = y_pred2.astype(np.int32)\n",
    "y_pred2"
   ]
  },
  {
   "cell_type": "code",
   "execution_count": null,
   "metadata": {},
   "outputs": [],
   "source": [
    "model3 = SVR(gamma=r'scale')\n",
    "model3.fit(X_train, y_train)"
   ]
  },
  {
   "cell_type": "code",
   "execution_count": null,
   "metadata": {},
   "outputs": [],
   "source": [
    "y_pred3 = model3.predict(X_test)\n",
    "\n",
    "y_pred3 = y_pred3.astype(np.int32)\n",
    "y_pred3"
   ]
  }
 ]
}