{
 "metadata": {
  "language_info": {
   "codemirror_mode": {
    "name": "ipython",
    "version": 3
   },
   "file_extension": ".py",
   "mimetype": "text/x-python",
   "name": "python",
   "nbconvert_exporter": "python",
   "pygments_lexer": "ipython3",
   "version": "3.8.5-final"
  },
  "orig_nbformat": 2,
  "kernelspec": {
   "name": "python3",
   "display_name": "Python 3",
   "language": "python"
  }
 },
 "nbformat": 4,
 "nbformat_minor": 2,
 "cells": [
  {
   "cell_type": "code",
   "execution_count": 26,
   "metadata": {},
   "outputs": [],
   "source": [
    "import matplotlib.pyplot as plt \n",
    "import numpy as np \n",
    "from sentinelsat import SentinelAPI, read_geojson, geojson_to_wkt\n",
    "import cv2"
   ]
  },
  {
   "cell_type": "code",
   "execution_count": 27,
   "metadata": {},
   "outputs": [
    {
     "output_type": "stream",
     "name": "stdout",
     "text": [
      "<sentinelsat.sentinel.SentinelAPI object at 0x7efe34ee3a60>\n"
     ]
    }
   ],
   "source": [
    "user = r''\n",
    "passwd = r''\n",
    "api = SentinelAPI(user, passwd, r'https://scihub.copernicus.eu/dhus')\n",
    "print(api)"
   ]
  },
  {
   "cell_type": "code",
   "execution_count": 28,
   "metadata": {},
   "outputs": [
    {
     "output_type": "stream",
     "name": "stdout",
     "text": [
      "POLYGON((139.7035 35.4702,139.8573 35.4702,139.8573 35.6467,139.7035 35.6467,139.7035 35.4702))\n"
     ]
    }
   ],
   "source": [
    "footprint_geojson = geojson_to_wkt(read_geojson(r'tokyo_bay.geojson'))\n",
    "print(footprint_geojson)"
   ]
  },
  {
   "cell_type": "code",
   "execution_count": 29,
   "metadata": {
    "tags": []
   },
   "outputs": [
    {
     "output_type": "error",
     "ename": "SentinelAPIError",
     "evalue": "HTTP status 401 Unauthorized: \n# HTTP Status 401 – Unauthorized\n\n* * *\n\n **Type** Status Report\n\n **Message** Unauthorized\n\n **Description** The request has not been applied because it lacks valid\nauthentication credentials for the target resource.\n\n* * *\n\n### Apache Tomcat/8.0.53",
     "traceback": [
      "\u001b[0;31m---------------------------------------------------------------------------\u001b[0m",
      "\u001b[0;31mSentinelAPIError\u001b[0m                          Traceback (most recent call last)",
      "\u001b[0;32m<ipython-input-29-8d8120f7ab75>\u001b[0m in \u001b[0;36m<module>\u001b[0;34m\u001b[0m\n\u001b[0;32m----> 1\u001b[0;31m products = api.query(\n\u001b[0m\u001b[1;32m      2\u001b[0m     \u001b[0mfootprint_geojson\u001b[0m\u001b[0;34m,\u001b[0m\u001b[0;34m\u001b[0m\u001b[0;34m\u001b[0m\u001b[0m\n\u001b[1;32m      3\u001b[0m     \u001b[0mdate\u001b[0m \u001b[0;34m=\u001b[0m \u001b[0;34m(\u001b[0m\u001b[0;34mr'20191201'\u001b[0m\u001b[0;34m,\u001b[0m \u001b[0;34mr'20200110'\u001b[0m\u001b[0;34m)\u001b[0m\u001b[0;34m,\u001b[0m\u001b[0;34m\u001b[0m\u001b[0;34m\u001b[0m\u001b[0m\n\u001b[1;32m      4\u001b[0m     \u001b[0mplatformname\u001b[0m \u001b[0;34m=\u001b[0m \u001b[0;34mr'Sentinel-2'\u001b[0m\u001b[0;34m,\u001b[0m\u001b[0;34m\u001b[0m\u001b[0;34m\u001b[0m\u001b[0m\n\u001b[1;32m      5\u001b[0m     \u001b[0mprocessinglevel\u001b[0m \u001b[0;34m=\u001b[0m \u001b[0;34mr'Level-2A'\u001b[0m\u001b[0;34m,\u001b[0m\u001b[0;34m\u001b[0m\u001b[0;34m\u001b[0m\u001b[0m\n",
      "\u001b[0;32m/mnt/c/SRC/Tellus/venv/lib/python3.8/site-packages/sentinelsat/sentinel.py\u001b[0m in \u001b[0;36mquery\u001b[0;34m(self, area, date, raw, area_relation, order_by, limit, offset, **keywords)\u001b[0m\n\u001b[1;32m    206\u001b[0m         )\n\u001b[1;32m    207\u001b[0m         \u001b[0mformatted_order_by\u001b[0m \u001b[0;34m=\u001b[0m \u001b[0m_format_order_by\u001b[0m\u001b[0;34m(\u001b[0m\u001b[0morder_by\u001b[0m\u001b[0;34m)\u001b[0m\u001b[0;34m\u001b[0m\u001b[0;34m\u001b[0m\u001b[0m\n\u001b[0;32m--> 208\u001b[0;31m         \u001b[0mresponse\u001b[0m\u001b[0;34m,\u001b[0m \u001b[0mcount\u001b[0m \u001b[0;34m=\u001b[0m \u001b[0mself\u001b[0m\u001b[0;34m.\u001b[0m\u001b[0m_load_query\u001b[0m\u001b[0;34m(\u001b[0m\u001b[0mquery\u001b[0m\u001b[0;34m,\u001b[0m \u001b[0mformatted_order_by\u001b[0m\u001b[0;34m,\u001b[0m \u001b[0mlimit\u001b[0m\u001b[0;34m,\u001b[0m \u001b[0moffset\u001b[0m\u001b[0;34m)\u001b[0m\u001b[0;34m\u001b[0m\u001b[0;34m\u001b[0m\u001b[0m\n\u001b[0m\u001b[1;32m    209\u001b[0m         \u001b[0mself\u001b[0m\u001b[0;34m.\u001b[0m\u001b[0mlogger\u001b[0m\u001b[0;34m.\u001b[0m\u001b[0minfo\u001b[0m\u001b[0;34m(\u001b[0m\u001b[0;34m\"Found %s products\"\u001b[0m\u001b[0;34m,\u001b[0m \u001b[0mcount\u001b[0m\u001b[0;34m)\u001b[0m\u001b[0;34m\u001b[0m\u001b[0;34m\u001b[0m\u001b[0m\n\u001b[1;32m    210\u001b[0m         \u001b[0;32mreturn\u001b[0m \u001b[0m_parse_opensearch_response\u001b[0m\u001b[0;34m(\u001b[0m\u001b[0mresponse\u001b[0m\u001b[0;34m)\u001b[0m\u001b[0;34m\u001b[0m\u001b[0;34m\u001b[0m\u001b[0m\n",
      "\u001b[0;32m/mnt/c/SRC/Tellus/venv/lib/python3.8/site-packages/sentinelsat/sentinel.py\u001b[0m in \u001b[0;36m_load_query\u001b[0;34m(self, query, order_by, limit, offset)\u001b[0m\n\u001b[1;32m    347\u001b[0m \u001b[0;34m\u001b[0m\u001b[0m\n\u001b[1;32m    348\u001b[0m     \u001b[0;32mdef\u001b[0m \u001b[0m_load_query\u001b[0m\u001b[0;34m(\u001b[0m\u001b[0mself\u001b[0m\u001b[0;34m,\u001b[0m \u001b[0mquery\u001b[0m\u001b[0;34m,\u001b[0m \u001b[0morder_by\u001b[0m\u001b[0;34m=\u001b[0m\u001b[0;32mNone\u001b[0m\u001b[0;34m,\u001b[0m \u001b[0mlimit\u001b[0m\u001b[0;34m=\u001b[0m\u001b[0;32mNone\u001b[0m\u001b[0;34m,\u001b[0m \u001b[0moffset\u001b[0m\u001b[0;34m=\u001b[0m\u001b[0;36m0\u001b[0m\u001b[0;34m)\u001b[0m\u001b[0;34m:\u001b[0m\u001b[0;34m\u001b[0m\u001b[0;34m\u001b[0m\u001b[0m\n\u001b[0;32m--> 349\u001b[0;31m         \u001b[0mproducts\u001b[0m\u001b[0;34m,\u001b[0m \u001b[0mcount\u001b[0m \u001b[0;34m=\u001b[0m \u001b[0mself\u001b[0m\u001b[0;34m.\u001b[0m\u001b[0m_load_subquery\u001b[0m\u001b[0;34m(\u001b[0m\u001b[0mquery\u001b[0m\u001b[0;34m,\u001b[0m \u001b[0morder_by\u001b[0m\u001b[0;34m,\u001b[0m \u001b[0mlimit\u001b[0m\u001b[0;34m,\u001b[0m \u001b[0moffset\u001b[0m\u001b[0;34m)\u001b[0m\u001b[0;34m\u001b[0m\u001b[0;34m\u001b[0m\u001b[0m\n\u001b[0m\u001b[1;32m    350\u001b[0m \u001b[0;34m\u001b[0m\u001b[0m\n\u001b[1;32m    351\u001b[0m         \u001b[0;31m# repeat query until all results have been loaded\u001b[0m\u001b[0;34m\u001b[0m\u001b[0;34m\u001b[0m\u001b[0;34m\u001b[0m\u001b[0m\n",
      "\u001b[0;32m/mnt/c/SRC/Tellus/venv/lib/python3.8/site-packages/sentinelsat/sentinel.py\u001b[0m in \u001b[0;36m_load_subquery\u001b[0;34m(self, query, order_by, limit, offset)\u001b[0m\n\u001b[1;32m    385\u001b[0m             \u001b[0mtimeout\u001b[0m\u001b[0;34m=\u001b[0m\u001b[0mself\u001b[0m\u001b[0;34m.\u001b[0m\u001b[0mtimeout\u001b[0m\u001b[0;34m,\u001b[0m\u001b[0;34m\u001b[0m\u001b[0;34m\u001b[0m\u001b[0m\n\u001b[1;32m    386\u001b[0m         )\n\u001b[0;32m--> 387\u001b[0;31m         \u001b[0m_check_scihub_response\u001b[0m\u001b[0;34m(\u001b[0m\u001b[0mresponse\u001b[0m\u001b[0;34m)\u001b[0m\u001b[0;34m\u001b[0m\u001b[0;34m\u001b[0m\u001b[0m\n\u001b[0m\u001b[1;32m    388\u001b[0m \u001b[0;34m\u001b[0m\u001b[0m\n\u001b[1;32m    389\u001b[0m         \u001b[0;31m# store last status code (for testing)\u001b[0m\u001b[0;34m\u001b[0m\u001b[0;34m\u001b[0m\u001b[0;34m\u001b[0m\u001b[0m\n",
      "\u001b[0;32m/mnt/c/SRC/Tellus/venv/lib/python3.8/site-packages/sentinelsat/sentinel.py\u001b[0m in \u001b[0;36m_check_scihub_response\u001b[0;34m(response, test_json)\u001b[0m\n\u001b[1;32m   1318\u001b[0m         \u001b[0;31m# See PEP 409\u001b[0m\u001b[0;34m\u001b[0m\u001b[0;34m\u001b[0m\u001b[0;34m\u001b[0m\u001b[0m\n\u001b[1;32m   1319\u001b[0m         \u001b[0mapi_error\u001b[0m\u001b[0;34m.\u001b[0m\u001b[0m__cause__\u001b[0m \u001b[0;34m=\u001b[0m \u001b[0;32mNone\u001b[0m\u001b[0;34m\u001b[0m\u001b[0;34m\u001b[0m\u001b[0m\n\u001b[0;32m-> 1320\u001b[0;31m         \u001b[0;32mraise\u001b[0m \u001b[0mapi_error\u001b[0m\u001b[0;34m\u001b[0m\u001b[0;34m\u001b[0m\u001b[0m\n\u001b[0m\u001b[1;32m   1321\u001b[0m \u001b[0;34m\u001b[0m\u001b[0m\n\u001b[1;32m   1322\u001b[0m \u001b[0;34m\u001b[0m\u001b[0m\n",
      "\u001b[0;31mSentinelAPIError\u001b[0m: HTTP status 401 Unauthorized: \n# HTTP Status 401 – Unauthorized\n\n* * *\n\n **Type** Status Report\n\n **Message** Unauthorized\n\n **Description** The request has not been applied because it lacks valid\nauthentication credentials for the target resource.\n\n* * *\n\n### Apache Tomcat/8.0.53"
     ]
    }
   ],
   "source": [
    "products = api.query(\n",
    "    footprint_geojson,\n",
    "    date = (r'20191201', r'20200110'),\n",
    "    platformname = r'Sentinel-2',\n",
    "    processinglevel = r'Level-2A',\n",
    "    cloudcoverpercentage = (0, 100))\n",
    "print(products)\n"
   ]
  },
  {
   "cell_type": "code",
   "execution_count": 24,
   "metadata": {},
   "outputs": [
    {
     "output_type": "stream",
     "name": "stdout",
     "text": [
      "8\n",
      "/mnt/c/SRC/Tellus/venv/lib/python3.8/site-packages/pyproj/crs/crs.py:53: FutureWarning: '+init=<authority>:<code>' syntax is deprecated. '<authority>:<code>' is the preferred initialization method. When making the change, be mindful of axis order changes: https://pyproj4.github.io/pyproj/stable/gotchas.html#axis-order-changes-in-proj-6\n",
      "  return _prepare_from_string(\" \".join(pjargs))\n"
     ]
    },
    {
     "output_type": "execute_result",
     "data": {
      "text/plain": [
       "                                                                                  title  ...                                           geometry\n",
       "a73fcc80-4850-4ab4-a199-301441307a0e  S2A_MSIL2A_20191214T013041_N0213_R074_T54SUE_2...  ...  MULTIPOLYGON (((138.80483 35.13500, 140.00972 ...\n",
       "5d6e2451-8b37-4e2c-8796-c9532ece3f78  S2A_MSIL2A_20191204T013031_N0213_R074_T54SUE_2...  ...  MULTIPOLYGON (((138.80483 35.13500, 140.00972 ...\n",
       "da95c8f3-9305-47be-9fe4-f6517b646939  S2A_MSIL2A_20200103T013041_N0213_R074_T54SUE_2...  ...  MULTIPOLYGON (((138.80483 35.13500, 140.00972 ...\n",
       "4ffc220c-07fa-4e7d-9f7f-64be2ff0548d  S2B_MSIL2A_20191229T013049_N0213_R074_T54SUE_2...  ...  MULTIPOLYGON (((138.80483 35.13500, 140.00972 ...\n",
       "38eebf73-97dc-45ee-a426-cf9b888d3b33  S2A_MSIL2A_20191224T013051_N0213_R074_T54SUE_2...  ...  MULTIPOLYGON (((138.80483 35.13500, 140.00972 ...\n",
       "7b79e462-aaa7-4cea-859c-82cc0e58aebd  S2B_MSIL2A_20191209T013039_N0213_R074_T54SUE_2...  ...  MULTIPOLYGON (((138.80483 35.13500, 140.00972 ...\n",
       "39e0e156-9ced-4754-8934-d1d10a5ab8d1  S2B_MSIL2A_20191219T013049_N0213_R074_T54SUE_2...  ...  MULTIPOLYGON (((138.80483 35.13500, 140.00972 ...\n",
       "6bd43561-f509-49fa-bdc7-1ac942626e4f  S2B_MSIL2A_20200108T013029_N0213_R074_T54SUE_2...  ...  MULTIPOLYGON (((138.80483 35.13500, 140.00972 ...\n",
       "\n",
       "[8 rows x 36 columns]"
      ],
      "text/html": "<div>\n<style scoped>\n    .dataframe tbody tr th:only-of-type {\n        vertical-align: middle;\n    }\n\n    .dataframe tbody tr th {\n        vertical-align: top;\n    }\n\n    .dataframe thead th {\n        text-align: right;\n    }\n</style>\n<table border=\"1\" class=\"dataframe\">\n  <thead>\n    <tr style=\"text-align: right;\">\n      <th></th>\n      <th>title</th>\n      <th>link</th>\n      <th>link_alternative</th>\n      <th>link_icon</th>\n      <th>summary</th>\n      <th>ondemand</th>\n      <th>beginposition</th>\n      <th>endposition</th>\n      <th>ingestiondate</th>\n      <th>orbitnumber</th>\n      <th>relativeorbitnumber</th>\n      <th>cloudcoverpercentage</th>\n      <th>highprobacloudspercentage</th>\n      <th>mediumprobacloudspercentage</th>\n      <th>notvegetatedpercentage</th>\n      <th>snowicepercentage</th>\n      <th>unclassifiedpercentage</th>\n      <th>vegetationpercentage</th>\n      <th>waterpercentage</th>\n      <th>format</th>\n      <th>instrumentshortname</th>\n      <th>instrumentname</th>\n      <th>s2datatakeid</th>\n      <th>platformidentifier</th>\n      <th>orbitdirection</th>\n      <th>platformserialidentifier</th>\n      <th>processingbaseline</th>\n      <th>processinglevel</th>\n      <th>producttype</th>\n      <th>platformname</th>\n      <th>size</th>\n      <th>filename</th>\n      <th>level1cpdiidentifier</th>\n      <th>identifier</th>\n      <th>uuid</th>\n      <th>geometry</th>\n    </tr>\n  </thead>\n  <tbody>\n    <tr>\n      <th>a73fcc80-4850-4ab4-a199-301441307a0e</th>\n      <td>S2A_MSIL2A_20191214T013041_N0213_R074_T54SUE_2...</td>\n      <td>https://scihub.copernicus.eu/dhus/odata/v1/Pro...</td>\n      <td>https://scihub.copernicus.eu/dhus/odata/v1/Pro...</td>\n      <td>https://scihub.copernicus.eu/dhus/odata/v1/Pro...</td>\n      <td>Date: 2019-12-14T01:30:41.024Z, Instrument: MS...</td>\n      <td>false</td>\n      <td>2019-12-14 01:30:41.024</td>\n      <td>2019-12-14 01:30:41.024</td>\n      <td>2019-12-14 06:43:50.962</td>\n      <td>23380</td>\n      <td>74</td>\n      <td>0.722008</td>\n      <td>0.358725</td>\n      <td>0.164397</td>\n      <td>23.385693</td>\n      <td>0.002445</td>\n      <td>6.948729</td>\n      <td>27.502346</td>\n      <td>16.125944</td>\n      <td>SAFE</td>\n      <td>MSI</td>\n      <td>Multi-Spectral Instrument</td>\n      <td>GS2A_20191214T013041_023380_N02.13</td>\n      <td>2015-028A</td>\n      <td>DESCENDING</td>\n      <td>Sentinel-2A</td>\n      <td>02.13</td>\n      <td>Level-2A</td>\n      <td>S2MSI2A</td>\n      <td>Sentinel-2</td>\n      <td>1.08 GB</td>\n      <td>S2A_MSIL2A_20191214T013041_N0213_R074_T54SUE_2...</td>\n      <td>S2A_OPER_MSI_L1C_TL_EPAE_20191214T032430_A0233...</td>\n      <td>S2A_MSIL2A_20191214T013041_N0213_R074_T54SUE_2...</td>\n      <td>a73fcc80-4850-4ab4-a199-301441307a0e</td>\n      <td>MULTIPOLYGON (((138.80483 35.13500, 140.00972 ...</td>\n    </tr>\n    <tr>\n      <th>5d6e2451-8b37-4e2c-8796-c9532ece3f78</th>\n      <td>S2A_MSIL2A_20191204T013031_N0213_R074_T54SUE_2...</td>\n      <td>https://scihub.copernicus.eu/dhus/odata/v1/Pro...</td>\n      <td>https://scihub.copernicus.eu/dhus/odata/v1/Pro...</td>\n      <td>https://scihub.copernicus.eu/dhus/odata/v1/Pro...</td>\n      <td>Date: 2019-12-04T01:30:31.024Z, Instrument: MS...</td>\n      <td>false</td>\n      <td>2019-12-04 01:30:31.024</td>\n      <td>2019-12-04 01:30:31.024</td>\n      <td>2019-12-04 10:07:56.689</td>\n      <td>23237</td>\n      <td>74</td>\n      <td>0.758905</td>\n      <td>0.272929</td>\n      <td>0.154903</td>\n      <td>19.475155</td>\n      <td>0.006474</td>\n      <td>5.899073</td>\n      <td>32.557887</td>\n      <td>15.995957</td>\n      <td>SAFE</td>\n      <td>MSI</td>\n      <td>Multi-Spectral Instrument</td>\n      <td>GS2A_20191204T013031_023237_N02.13</td>\n      <td>2015-028A</td>\n      <td>DESCENDING</td>\n      <td>Sentinel-2A</td>\n      <td>02.13</td>\n      <td>Level-2A</td>\n      <td>S2MSI2A</td>\n      <td>Sentinel-2</td>\n      <td>1.09 GB</td>\n      <td>S2A_MSIL2A_20191204T013031_N0213_R074_T54SUE_2...</td>\n      <td>S2A_OPER_MSI_L1C_TL_EPAE_20191204T032444_A0232...</td>\n      <td>S2A_MSIL2A_20191204T013031_N0213_R074_T54SUE_2...</td>\n      <td>5d6e2451-8b37-4e2c-8796-c9532ece3f78</td>\n      <td>MULTIPOLYGON (((138.80483 35.13500, 140.00972 ...</td>\n    </tr>\n    <tr>\n      <th>da95c8f3-9305-47be-9fe4-f6517b646939</th>\n      <td>S2A_MSIL2A_20200103T013041_N0213_R074_T54SUE_2...</td>\n      <td>https://scihub.copernicus.eu/dhus/odata/v1/Pro...</td>\n      <td>https://scihub.copernicus.eu/dhus/odata/v1/Pro...</td>\n      <td>https://scihub.copernicus.eu/dhus/odata/v1/Pro...</td>\n      <td>Date: 2020-01-03T01:30:41.024Z, Instrument: MS...</td>\n      <td>false</td>\n      <td>2020-01-03 01:30:41.024</td>\n      <td>2020-01-03 01:30:41.024</td>\n      <td>2020-01-03 06:46:44.084</td>\n      <td>23666</td>\n      <td>74</td>\n      <td>4.082906</td>\n      <td>0.054354</td>\n      <td>0.194166</td>\n      <td>23.190394</td>\n      <td>0.079510</td>\n      <td>6.433053</td>\n      <td>25.710946</td>\n      <td>12.477856</td>\n      <td>SAFE</td>\n      <td>MSI</td>\n      <td>Multi-Spectral Instrument</td>\n      <td>GS2A_20200103T013041_023666_N02.13</td>\n      <td>2015-028A</td>\n      <td>DESCENDING</td>\n      <td>Sentinel-2A</td>\n      <td>02.13</td>\n      <td>Level-2A</td>\n      <td>S2MSI2A</td>\n      <td>Sentinel-2</td>\n      <td>1.08 GB</td>\n      <td>S2A_MSIL2A_20200103T013041_N0213_R074_T54SUE_2...</td>\n      <td>S2A_OPER_MSI_L1C_TL_EPAE_20200103T032332_A0236...</td>\n      <td>S2A_MSIL2A_20200103T013041_N0213_R074_T54SUE_2...</td>\n      <td>da95c8f3-9305-47be-9fe4-f6517b646939</td>\n      <td>MULTIPOLYGON (((138.80483 35.13500, 140.00972 ...</td>\n    </tr>\n    <tr>\n      <th>4ffc220c-07fa-4e7d-9f7f-64be2ff0548d</th>\n      <td>S2B_MSIL2A_20191229T013049_N0213_R074_T54SUE_2...</td>\n      <td>https://scihub.copernicus.eu/dhus/odata/v1/Pro...</td>\n      <td>https://scihub.copernicus.eu/dhus/odata/v1/Pro...</td>\n      <td>https://scihub.copernicus.eu/dhus/odata/v1/Pro...</td>\n      <td>Date: 2019-12-29T01:30:49.024Z, Instrument: MS...</td>\n      <td>false</td>\n      <td>2019-12-29 01:30:49.024</td>\n      <td>2019-12-29 01:30:49.024</td>\n      <td>2019-12-30 03:32:03.308</td>\n      <td>14686</td>\n      <td>74</td>\n      <td>7.555910</td>\n      <td>4.040102</td>\n      <td>2.207230</td>\n      <td>20.232907</td>\n      <td>0.410988</td>\n      <td>7.578560</td>\n      <td>20.660661</td>\n      <td>14.505644</td>\n      <td>SAFE</td>\n      <td>MSI</td>\n      <td>Multi-Spectral Instrument</td>\n      <td>GS2B_20191229T013049_014686_N02.13</td>\n      <td>2017-013A</td>\n      <td>DESCENDING</td>\n      <td>Sentinel-2B</td>\n      <td>02.13</td>\n      <td>Level-2A</td>\n      <td>S2MSI2A</td>\n      <td>Sentinel-2</td>\n      <td>1.08 GB</td>\n      <td>S2B_MSIL2A_20191229T013049_N0213_R074_T54SUE_2...</td>\n      <td>S2B_OPER_MSI_L1C_TL_EPAE_20191229T030611_A0146...</td>\n      <td>S2B_MSIL2A_20191229T013049_N0213_R074_T54SUE_2...</td>\n      <td>4ffc220c-07fa-4e7d-9f7f-64be2ff0548d</td>\n      <td>MULTIPOLYGON (((138.80483 35.13500, 140.00972 ...</td>\n    </tr>\n    <tr>\n      <th>38eebf73-97dc-45ee-a426-cf9b888d3b33</th>\n      <td>S2A_MSIL2A_20191224T013051_N0213_R074_T54SUE_2...</td>\n      <td>https://scihub.copernicus.eu/dhus/odata/v1/Pro...</td>\n      <td>https://scihub.copernicus.eu/dhus/odata/v1/Pro...</td>\n      <td>https://scihub.copernicus.eu/dhus/odata/v1/Pro...</td>\n      <td>Date: 2019-12-24T01:30:51.024Z, Instrument: MS...</td>\n      <td>false</td>\n      <td>2019-12-24 01:30:51.024</td>\n      <td>2019-12-24 01:30:51.024</td>\n      <td>2019-12-24 06:37:29.407</td>\n      <td>23523</td>\n      <td>74</td>\n      <td>36.018609</td>\n      <td>3.260112</td>\n      <td>6.932826</td>\n      <td>10.868090</td>\n      <td>2.318101</td>\n      <td>6.884701</td>\n      <td>13.410650</td>\n      <td>5.102640</td>\n      <td>SAFE</td>\n      <td>MSI</td>\n      <td>Multi-Spectral Instrument</td>\n      <td>GS2A_20191224T013051_023523_N02.13</td>\n      <td>2015-028A</td>\n      <td>DESCENDING</td>\n      <td>Sentinel-2A</td>\n      <td>02.13</td>\n      <td>Level-2A</td>\n      <td>S2MSI2A</td>\n      <td>Sentinel-2</td>\n      <td>1.05 GB</td>\n      <td>S2A_MSIL2A_20191224T013051_N0213_R074_T54SUE_2...</td>\n      <td>S2A_OPER_MSI_L1C_TL_EPAE_20191224T032020_A0235...</td>\n      <td>S2A_MSIL2A_20191224T013051_N0213_R074_T54SUE_2...</td>\n      <td>38eebf73-97dc-45ee-a426-cf9b888d3b33</td>\n      <td>MULTIPOLYGON (((138.80483 35.13500, 140.00972 ...</td>\n    </tr>\n    <tr>\n      <th>7b79e462-aaa7-4cea-859c-82cc0e58aebd</th>\n      <td>S2B_MSIL2A_20191209T013039_N0213_R074_T54SUE_2...</td>\n      <td>https://scihub.copernicus.eu/dhus/odata/v1/Pro...</td>\n      <td>https://scihub.copernicus.eu/dhus/odata/v1/Pro...</td>\n      <td>https://scihub.copernicus.eu/dhus/odata/v1/Pro...</td>\n      <td>Date: 2019-12-09T01:30:39.024Z, Instrument: MS...</td>\n      <td>false</td>\n      <td>2019-12-09 01:30:39.024</td>\n      <td>2019-12-09 01:30:39.024</td>\n      <td>2019-12-09 06:31:27.019</td>\n      <td>14400</td>\n      <td>74</td>\n      <td>67.861243</td>\n      <td>59.780556</td>\n      <td>5.998307</td>\n      <td>3.801674</td>\n      <td>0.014592</td>\n      <td>5.707913</td>\n      <td>3.947467</td>\n      <td>10.995797</td>\n      <td>SAFE</td>\n      <td>MSI</td>\n      <td>Multi-Spectral Instrument</td>\n      <td>GS2B_20191209T013039_014400_N02.13</td>\n      <td>2017-013A</td>\n      <td>DESCENDING</td>\n      <td>Sentinel-2B</td>\n      <td>02.13</td>\n      <td>Level-2A</td>\n      <td>S2MSI2A</td>\n      <td>Sentinel-2</td>\n      <td>962.89 MB</td>\n      <td>S2B_MSIL2A_20191209T013039_N0213_R074_T54SUE_2...</td>\n      <td>S2B_OPER_MSI_L1C_TL_EPAE_20191209T030553_A0144...</td>\n      <td>S2B_MSIL2A_20191209T013039_N0213_R074_T54SUE_2...</td>\n      <td>7b79e462-aaa7-4cea-859c-82cc0e58aebd</td>\n      <td>MULTIPOLYGON (((138.80483 35.13500, 140.00972 ...</td>\n    </tr>\n    <tr>\n      <th>39e0e156-9ced-4754-8934-d1d10a5ab8d1</th>\n      <td>S2B_MSIL2A_20191219T013049_N0213_R074_T54SUE_2...</td>\n      <td>https://scihub.copernicus.eu/dhus/odata/v1/Pro...</td>\n      <td>https://scihub.copernicus.eu/dhus/odata/v1/Pro...</td>\n      <td>https://scihub.copernicus.eu/dhus/odata/v1/Pro...</td>\n      <td>Date: 2019-12-19T01:30:49.024Z, Instrument: MS...</td>\n      <td>false</td>\n      <td>2019-12-19 01:30:49.024</td>\n      <td>2019-12-19 01:30:49.024</td>\n      <td>2019-12-19 06:13:49.743</td>\n      <td>14543</td>\n      <td>74</td>\n      <td>75.557299</td>\n      <td>73.036093</td>\n      <td>2.353456</td>\n      <td>0.614560</td>\n      <td>15.763643</td>\n      <td>2.092448</td>\n      <td>0.915332</td>\n      <td>1.315998</td>\n      <td>SAFE</td>\n      <td>MSI</td>\n      <td>Multi-Spectral Instrument</td>\n      <td>GS2B_20191219T013049_014543_N02.13</td>\n      <td>2017-013A</td>\n      <td>DESCENDING</td>\n      <td>Sentinel-2B</td>\n      <td>02.13</td>\n      <td>Level-2A</td>\n      <td>S2MSI2A</td>\n      <td>Sentinel-2</td>\n      <td>911.61 MB</td>\n      <td>S2B_MSIL2A_20191219T013049_N0213_R074_T54SUE_2...</td>\n      <td>S2B_OPER_MSI_L1C_TL_EPAE_20191219T030446_A0145...</td>\n      <td>S2B_MSIL2A_20191219T013049_N0213_R074_T54SUE_2...</td>\n      <td>39e0e156-9ced-4754-8934-d1d10a5ab8d1</td>\n      <td>MULTIPOLYGON (((138.80483 35.13500, 140.00972 ...</td>\n    </tr>\n    <tr>\n      <th>6bd43561-f509-49fa-bdc7-1ac942626e4f</th>\n      <td>S2B_MSIL2A_20200108T013029_N0213_R074_T54SUE_2...</td>\n      <td>https://scihub.copernicus.eu/dhus/odata/v1/Pro...</td>\n      <td>https://scihub.copernicus.eu/dhus/odata/v1/Pro...</td>\n      <td>https://scihub.copernicus.eu/dhus/odata/v1/Pro...</td>\n      <td>Date: 2020-01-08T01:30:29.024Z, Instrument: MS...</td>\n      <td>false</td>\n      <td>2020-01-08 01:30:29.024</td>\n      <td>2020-01-08 01:30:29.024</td>\n      <td>2020-01-08 06:15:32.820</td>\n      <td>14829</td>\n      <td>74</td>\n      <td>84.841804</td>\n      <td>27.799729</td>\n      <td>55.301982</td>\n      <td>0.455174</td>\n      <td>11.090176</td>\n      <td>0.000352</td>\n      <td>0.000000</td>\n      <td>0.098308</td>\n      <td>SAFE</td>\n      <td>MSI</td>\n      <td>Multi-Spectral Instrument</td>\n      <td>GS2B_20200108T013029_014829_N02.13</td>\n      <td>2017-013A</td>\n      <td>DESCENDING</td>\n      <td>Sentinel-2B</td>\n      <td>02.13</td>\n      <td>Level-2A</td>\n      <td>S2MSI2A</td>\n      <td>Sentinel-2</td>\n      <td>804.80 MB</td>\n      <td>S2B_MSIL2A_20200108T013029_N0213_R074_T54SUE_2...</td>\n      <td>S2B_OPER_MSI_L1C_TL_EPAE_20200108T030812_A0148...</td>\n      <td>S2B_MSIL2A_20200108T013029_N0213_R074_T54SUE_2...</td>\n      <td>6bd43561-f509-49fa-bdc7-1ac942626e4f</td>\n      <td>MULTIPOLYGON (((138.80483 35.13500, 140.00972 ...</td>\n    </tr>\n  </tbody>\n</table>\n</div>"
     },
     "metadata": {},
     "execution_count": 24
    }
   ],
   "source": [
    "print(len(products))\n",
    "products_gdf = api.to_geodataframe(products)\n",
    "products_gdf_sorted = products_gdf.sort_values([r'cloudcoverpercentage'], ascending=[True])\n",
    "products_gdf_sorted"
   ]
  },
  {
   "cell_type": "code",
   "execution_count": 25,
   "metadata": {},
   "outputs": [
    {
     "output_type": "stream",
     "name": "stdout",
     "text": [
      "https://scihub.copernicus.eu/dhus/odata/v1/Products('a73fcc80-4850-4ab4-a199-301441307a0e')/$value\n"
     ]
    }
   ],
   "source": [
    "print(products_gdf_sorted.iloc[0][r'link'])"
   ]
  }
 ]
}